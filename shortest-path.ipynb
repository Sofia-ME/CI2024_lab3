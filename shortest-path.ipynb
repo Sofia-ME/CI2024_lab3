{
 "cells": [
  {
   "cell_type": "code",
   "execution_count": 2,
   "metadata": {},
   "outputs": [],
   "source": [
    "import pandas as pd\n",
    "import math\n",
    "from itertools import combinations\n",
    "import numpy as np\n",
    "from geopy.distance import geodesic\n",
    "from tqdm import tqdm\n",
    "import random"
   ]
  },
  {
   "cell_type": "code",
   "execution_count": 10,
   "metadata": {},
   "outputs": [],
   "source": [
    "# Import CSV file\n",
    "def import_cities(filename):\n",
    "    return pd.read_csv(filename, header=None)"
   ]
  },
  {
   "cell_type": "code",
   "execution_count": null,
   "metadata": {},
   "outputs": [],
   "source": [
    "# Create distance matrix considering connections\n",
    "\n",
    "def create_path_matrix(data):\n",
    "\n",
    "    path_matrix = np.zeros((len(data), len(data)))\n",
    "    \n",
    "    for c1, c2 in combinations(data.itertuples(), 2):\n",
    "        distance = geodesic((c1.lat, c1.lon), (c2.lat, c2.lon)).km\n",
    "        path_matrix[c1.Index, c2.Index] = path_matrix[c2.Index, c1.Index] = distance if distance <= 367 else float('nan')\n",
    "\n"
   ]
  },
  {
   "cell_type": "code",
   "execution_count": null,
   "metadata": {},
   "outputs": [],
   "source": [
    "median = 367"
   ]
  },
  {
   "cell_type": "code",
   "execution_count": null,
   "metadata": {},
   "outputs": [],
   "source": []
  }
 ],
 "metadata": {
  "kernelspec": {
   "display_name": "base",
   "language": "python",
   "name": "python3"
  },
  "language_info": {
   "codemirror_mode": {
    "name": "ipython",
    "version": 3
   },
   "file_extension": ".py",
   "mimetype": "text/x-python",
   "name": "python",
   "nbconvert_exporter": "python",
   "pygments_lexer": "ipython3",
   "version": "3.8.8"
  },
  "orig_nbformat": 4
 },
 "nbformat": 4,
 "nbformat_minor": 2
}
