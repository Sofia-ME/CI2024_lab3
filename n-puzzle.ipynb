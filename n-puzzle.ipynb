{
 "cells": [
  {
   "cell_type": "code",
   "execution_count": 1,
   "metadata": {},
   "outputs": [],
   "source": [
    "from collections import namedtuple\n",
    "from random import choice\n",
    "from tqdm.auto import tqdm\n",
    "import numpy as np"
   ]
  },
  {
   "cell_type": "code",
   "execution_count": 29,
   "metadata": {},
   "outputs": [],
   "source": [
    "PUZZLE_DIM_N = 3"
   ]
  },
  {
   "cell_type": "code",
   "execution_count": 30,
   "metadata": {},
   "outputs": [],
   "source": [
    "def generate_random_estate(PUZZLE_DIM_N):\n",
    "\n",
    "    # Create a list of numbers from 0 to n^2 - 1\n",
    "    elements = np.arange(PUZZLE_DIM_N**2)\n",
    "\n",
    "    # Shuffle the elements randomly\n",
    "    np.random.shuffle(elements)\n",
    "\n",
    "    # Reshape the shuffled array into an n x n matrix\n",
    "    random_estate = elements.reshape(PUZZLE_DIM_N, PUZZLE_DIM_N)\n",
    "\n",
    "    return random_estate\n",
    "\n",
    "\n",
    "def end_state(PUZZLE_DIM_N):\n",
    "\n",
    "    # Create a list of numbers from 1 to n^2 - 1\n",
    "    elements = np.arange(1, PUZZLE_DIM_N**2)\n",
    "\n",
    "    # Append a zero at the end\n",
    "    elements = np.append(elements, 0)\n",
    "\n",
    "    # Reshape into an n x n matrix\n",
    "    end_state_matrix = elements.reshape(PUZZLE_DIM_N, PUZZLE_DIM_N)\n",
    "\n",
    "    return end_state_matrix\n",
    "\n",
    "\n",
    "# Finds the position of the zero element in the matrix and determines all possible moves for it.\n",
    "def available_actions(state):\n",
    "    \n",
    "    moves = []  # List to store possible moves\n",
    "\n",
    "    # Find the position of the zero element\n",
    "    zero_pos = tuple(np.argwhere(state == 0)[0])\n",
    "\n",
    "    # Possible move directions: (row_change, col_change)\n",
    "    directions = [(-1, 0), (1, 0), (0, -1), (0, 1)]\n",
    "\n",
    "    for dr, dc in directions:\n",
    "        new_row, new_col = zero_pos[0] + dr, zero_pos[1] + dc\n",
    "\n",
    "        # Check if the move is within bounds\n",
    "        if 0 <= new_row < PUZZLE_DIM_N and 0 <= new_col < PUZZLE_DIM_N:\n",
    "            moves.append((new_row, new_col))\n",
    "\n",
    "    # Return the current position of zero and its possible moves\n",
    "    return [zero_pos] + moves"
   ]
  },
  {
   "cell_type": "code",
   "execution_count": 36,
   "metadata": {},
   "outputs": [
    {
     "name": "stdout",
     "output_type": "stream",
     "text": [
      "Initial State:\n",
      "[[0 2 3]\n",
      " [7 4 5]\n",
      " [8 1 6]]\n",
      "\n",
      "Solved in 367510 steps!\n"
     ]
    }
   ],
   "source": [
    "# Initial and goal states\n",
    "init_state = generate_random_estate(PUZZLE_DIM_N)\n",
    "goal_state = end_state(PUZZLE_DIM_N)\n",
    "\n",
    "new_state = init_state.copy()\n",
    "steps = 0\n",
    "max_steps = 1000000\n",
    "\n",
    "print(\"Initial State:\")\n",
    "print(new_state)\n",
    "\n",
    "while not np.array_equal(new_state, goal_state) and steps <= max_steps:\n",
    "    steps += 1\n",
    "\n",
    "    # Get available actions\n",
    "    possible_actions = available_actions(new_state)\n",
    "\n",
    "    # Choose a random action\n",
    "    random_action = possible_actions[np.random.randint(1, len(possible_actions))]\n",
    "\n",
    "    # Move zero\n",
    "    zero_i, zero_j = possible_actions[0]\n",
    "    new_zero_i, new_zero_j = random_action\n",
    "    new_state[zero_i, zero_j], new_state[new_zero_i, new_zero_j] = new_state[new_zero_i, new_zero_j], new_state[zero_i, zero_j]\n",
    "\n",
    "    # Print every 100 steps\n",
    "    #if steps % 100 == 0:\n",
    "        #print(f\"Step {steps}:\\n{new_state}\")\n",
    "\n",
    "# Check outcome\n",
    "if np.array_equal(new_state, goal_state):\n",
    "    print(f\"\\nSolved in {steps} steps!\")\n",
    "else:\n",
    "    print(f\"\\nNot solved in {steps} steps.\")\n"
   ]
  }
 ],
 "metadata": {
  "kernelspec": {
   "display_name": "ci-WEKR9SVn-py3.12",
   "language": "python",
   "name": "python3"
  },
  "language_info": {
   "codemirror_mode": {
    "name": "ipython",
    "version": 3
   },
   "file_extension": ".py",
   "mimetype": "text/x-python",
   "name": "python",
   "nbconvert_exporter": "python",
   "pygments_lexer": "ipython3",
   "version": "3.8.8"
  }
 },
 "nbformat": 4,
 "nbformat_minor": 2
}
